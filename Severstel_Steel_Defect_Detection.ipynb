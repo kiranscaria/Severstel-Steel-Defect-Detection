{
  "nbformat": 4,
  "nbformat_minor": 0,
  "metadata": {
    "kernelspec": {
      "display_name": "Python 3",
      "language": "python",
      "name": "python3"
    },
    "language_info": {
      "codemirror_mode": {
        "name": "ipython",
        "version": 3
      },
      "file_extension": ".py",
      "mimetype": "text/x-python",
      "name": "python",
      "nbconvert_exporter": "python",
      "pygments_lexer": "ipython3",
      "version": "3.6.8"
    },
    "colab": {
      "name": "Severstel Steel Defect Detection.ipynb",
      "provenance": [],
      "collapsed_sections": []
    }
  },
  "cells": [
    {
      "cell_type": "markdown",
      "metadata": {
        "id": "v6gY-DtlNg5V",
        "colab_type": "text"
      },
      "source": [
        "# Severstel Steel Defect Detection"
      ]
    },
    {
      "cell_type": "code",
      "metadata": {
        "scrolled": true,
        "id": "vUAEoWUUNg5i",
        "colab_type": "code",
        "colab": {}
      },
      "source": [
        "import time\n",
        "import random\n",
        "import numpy as np\n",
        "import pandas as pd\n",
        "from sklearn.model_selection import train_test_split\n",
        "\n",
        "import torch\n",
        "import torch.optim as optim\n",
        "from torchvision import transforms\n",
        "from torch.nn import functional as F\n",
        "from torch.utils.data import Dataset, DataLoader\n",
        "\n",
        "from models import ModelBuilder, SegmentationModule"
      ],
      "execution_count": 0,
      "outputs": []
    },
    {
      "cell_type": "code",
      "metadata": {
        "id": "jOzuEX-kNg56",
        "colab_type": "code",
        "colab": {}
      },
      "source": [
        "seed = 42\n",
        "batch_size = 4\n",
        "num_epochs = 20\n",
        "test_percent = 0.20\n",
        "learning_rate = 3e-4\n",
        "# Accumulates gradient of four mini-batches\n",
        "# Effectively making the batch_size equal to accumulation_steps*times the batch_size\n",
        "accumulation_steps = 4   \n",
        "\n",
        "num_workers = 4\n",
        "\n",
        "random.seed(seed)\n",
        "np.random.seed(seed)\n",
        "torch.cuda.manual_seed(seed)\n",
        "device = torch.device(\"cuda\" if torch.cuda.is_available() else \"cpu\")\n",
        "data_folder = 'data/train_images'"
      ],
      "execution_count": 0,
      "outputs": []
    },
    {
      "cell_type": "markdown",
      "metadata": {
        "id": "x4iBFjkMNg6K",
        "colab_type": "text"
      },
      "source": [
        "## RLE-Mask utility functions"
      ]
    },
    {
      "cell_type": "code",
      "metadata": {
        "id": "Czznd8YbNg6Q",
        "colab_type": "code",
        "colab": {}
      },
      "source": [
        "#https://www.kaggle.com/paulorzp/rle-functions-run-lenght-encode-decode\n",
        "def mask2rle(img):\n",
        "    '''\n",
        "    img: numpy array, 1 -> mask, 0 -> background\n",
        "    Returns run length as string formated\n",
        "    '''\n",
        "    pixels= img.T.flatten()\n",
        "    pixels = np.concatenate([[0], pixels, [0]])\n",
        "    runs = np.where(pixels[1:] != pixels[:-1])[0] + 1\n",
        "    runs[1::2] -= runs[::2]\n",
        "    return ' '.join(str(x) for x in runs)\n",
        "\n",
        "def make_mask(row_id, df):\n",
        "    '''Given a row index, return image_id and mask (256, 1600, 4) from the dataframe `df`'''\n",
        "    fname = df.iloc[row_id].name\n",
        "    labels = df.iloc[row_id][:4]\n",
        "    masks = np.zeros((256, 1600, 4), dtype=np.float32) # float32 is V.Imp\n",
        "    # 4:class 1～4 (ch:0～3)\n",
        "\n",
        "    for idx, label in enumerate(labels.values):\n",
        "        if label is not np.nan:\n",
        "            label = label.split(\" \")\n",
        "            positions = map(int, label[0::2])\n",
        "            length = map(int, label[1::2])\n",
        "            mask = np.zeros(256 * 1600, dtype=np.uint8)\n",
        "            for pos, le in zip(positions, length):\n",
        "                mask[pos:(pos + le)] = 1\n",
        "            masks[:, :, idx] = mask.reshape(256, 1600, order='F')\n",
        "    return fname, masks"
      ],
      "execution_count": 0,
      "outputs": []
    },
    {
      "cell_type": "markdown",
      "metadata": {
        "id": "PfhYt9jpNg6g",
        "colab_type": "text"
      },
      "source": [
        "## Dataloader"
      ]
    },
    {
      "cell_type": "code",
      "metadata": {
        "id": "BtKnuuC0Ng6k",
        "colab_type": "code",
        "colab": {}
      },
      "source": [
        "class SteelDataset(Dataset):\n",
        "    def __init__(self, df, data_folder, mean, std, phase):\n",
        "        self.df = df\n",
        "        self.root = data_folder\n",
        "        self.mean = mean\n",
        "        self.std = std\n",
        "        self.phase = phase\n",
        "        self.fnames = self.df.index.tolist()\n",
        "        \n",
        "        # normalize\n",
        "        self.normalize = transforms.Normalize(mean=mean, std=std)\n",
        "\n",
        "    def __getitem__(self, idx):\n",
        "        image_id, mask = make_mask(idx, self.df)\n",
        "        image_path = os.path.join(self.root, \"train_images\",  image_id)\n",
        "        img = cv2.imread(image_path)\n",
        "        img, mask = self.transforms(image=img, mask=mask)\n",
        "#         img = augmented['image']\n",
        "#         mask = augmented['mask'] # 1x256x1600x4\n",
        "        mask = mask[0].permute(2, 0, 1) # 1x4x256x1600\n",
        "        return img, mask\n",
        "\n",
        "    def __len__(self):\n",
        "        return len(self.fnames)\n",
        "\n",
        "    def transform(self, phase, img, mask):        \n",
        "        # Resize\n",
        "        resize = transforms.Resize(size=(256, 256))\n",
        "        img = resize(img)\n",
        "        mask = resize(mask)\n",
        "\n",
        "        if phase=='train':\n",
        "            # # Random Crop\n",
        "            if random.random() > 0.50:\n",
        "                i, j, h, w = transforms.RandomCrop.get_params(img, output_size=(256, 256))\n",
        "                img = F.crop(img, i, j, h, w)\n",
        "                mask = F.crop(mask ,i, j, h, w)\n",
        "\n",
        "            # # Random Horizontal Flipping\n",
        "            if random.random() > 0.50:\n",
        "                img = F.hflip(img)\n",
        "                mask = F.hflip(mask)\n",
        "\n",
        "            # # Random Vertical Flipping\n",
        "            if random.random() > 0.50:\n",
        "                img = F.vflip(img)\n",
        "                mask = F.vflip(mask)\n",
        "\n",
        "        # # To tensor\n",
        "        img = F.to_tensor(img)\n",
        "        mask = F.to_tensor(mask)\n",
        "\n",
        "        # # Normalize\n",
        "        img = self.normalize(img)\n",
        "        \n",
        "        return img, mask\n",
        "\n",
        "def provider(data_folder, df_path, phase, mean=None, std=None, batch_size=8, num_workers=4):\n",
        "    '''Returns dataloader for the model training'''\n",
        "    df = pd.read_csv(df_path)\n",
        "    # https://www.kaggle.com/amanooo/defect-detection-starter-u-net\n",
        "    df['ImageId'], df['ClassId'] = zip(*df['ImageId_ClassId'].str.split('_'))\n",
        "    df['ClassId'] = df['ClassId'].astype(int)\n",
        "    df = df.pivot(index='ImageId',columns='ClassId',values='EncodedPixels')\n",
        "    df['defects'] = df.count(axis=1)\n",
        "    \n",
        "    train_df, val_df = train_test_split(df, test_size=test_percent, stratify=df[\"defects\"], random_state=seed)\n",
        "    df = train_df if phase == \"train\" else val_df\n",
        "    image_dataset = SteelDataset(df, data_folder, mean, std, phase)\n",
        "    dataloader = DataLoader(image_dataset, batch_size=batch_size, num_workers=num_workers, pin_memory=True, shuffle=True)\n",
        "\n",
        "    return dataloader"
      ],
      "execution_count": 0,
      "outputs": []
    },
    {
      "cell_type": "markdown",
      "metadata": {
        "id": "l1WNzJEXNg6z",
        "colab_type": "text"
      },
      "source": [
        "## Metrics: IoU and Dice "
      ]
    },
    {
      "cell_type": "code",
      "metadata": {
        "id": "96bpSpDANg63",
        "colab_type": "code",
        "colab": {}
      },
      "source": [
        "def metric(probability, truth, threshold=0.5, reduction='none'):\n",
        "    '''Calculates dice of positive and negative images seperately'''\n",
        "    '''probability and truth must be torch tensors'''\n",
        "    batch_size = len(truth)\n",
        "    with torch.no_grad():\n",
        "        probability = probability.view(batch_size, -1)\n",
        "        truth = truth.view(batch_size, -1)\n",
        "        assert(probability.shape == truth.shape)\n",
        "\n",
        "        p = (probability > threshold).float()\n",
        "        t = (truth > 0.5).float()\n",
        "\n",
        "        t_sum = t.sum(-1)\n",
        "        p_sum = p.sum(-1)\n",
        "        neg_index = torch.nonzero(t_sum == 0)\n",
        "        pos_index = torch.nonzero(t_sum >= 1)\n",
        "\n",
        "        dice_neg = (p_sum == 0).float()\n",
        "        dice_pos = 2 * (p*t).sum(-1)/((p+t).sum(-1))\n",
        "\n",
        "        dice_neg = dice_neg[neg_index]\n",
        "        dice_pos = dice_pos[pos_index]\n",
        "        dice = torch.cat([dice_pos, dice_neg])\n",
        "\n",
        "        dice_neg = np.nan_to_num(dice_neg.mean().item(), 0)\n",
        "        dice_pos = np.nan_to_num(dice_pos.mean().item(), 0)\n",
        "        dice = dice.mean().item()\n",
        "\n",
        "        num_neg = len(neg_index)\n",
        "        num_pos = len(pos_index)\n",
        "\n",
        "    return dice, dice_neg, dice_pos, num_neg, num_pos\n",
        "\n",
        "\n",
        "def compute_ious(pred, label, classes, ignore_index=255, only_present=True):\n",
        "    '''computes iou for one ground truth mask and predicted mask'''\n",
        "    pred[label == ignore_index] = 0\n",
        "    ious = []\n",
        "    for c in classes:\n",
        "        label_c = label == c\n",
        "        if only_present and np.sum(label_c) == 0:\n",
        "            ious.append(np.nan)\n",
        "            continue\n",
        "        pred_c = pred == c\n",
        "        intersection = np.logical_and(pred_c, label_c).sum()\n",
        "        union = np.logical_or(pred_c, label_c).sum()\n",
        "        if union != 0:\n",
        "            ious.append(intersection / union)\n",
        "    return ious if ious else [1]\n",
        "\n",
        "\n",
        "def compute_iou_batch(outputs, labels, classes=None):\n",
        "    '''computes mean iou for a batch of ground truth masks and predicted masks'''\n",
        "    ious = []\n",
        "    preds = np.copy(outputs) # copy is imp\n",
        "    labels = np.array(labels) # tensor to np\n",
        "    for pred, label in zip(preds, labels):\n",
        "        ious.append(np.nanmean(compute_ious(pred, label, classes)))\n",
        "    iou = np.nanmean(ious)\n",
        "    return iou\n",
        "\n",
        "class Meter:\n",
        "    '''A meter to keep track of iou and dice scores throughout an epoch'''\n",
        "    def __init__(self, phase, epoch):\n",
        "        self.base_threshold = 0.5 # <<<<<<<<<<< here's the threshold\n",
        "        self.base_dice_scores = []\n",
        "        self.dice_neg_scores = []\n",
        "        self.dice_pos_scores = []\n",
        "        self.iou_scores = []\n",
        "\n",
        "    def update(self, targets, outputs):\n",
        "        probs = torch.sigmoid(outputs)\n",
        "        dice, dice_neg, dice_pos, _, _ = metric(probs, targets, self.base_threshold)\n",
        "        self.base_dice_scores.append(dice)\n",
        "        self.dice_pos_scores.append(dice_pos)\n",
        "        self.dice_neg_scores.append(dice_neg)\n",
        "        preds = predict(probs, self.base_threshold)\n",
        "        iou = compute_iou_batch(preds, targets, classes=[1])\n",
        "        self.iou_scores.append(iou)\n",
        "\n",
        "    def get_metrics(self):\n",
        "        dice = np.mean(self.base_dice_scores)\n",
        "        dice_neg = np.mean(self.dice_neg_scores)\n",
        "        dice_pos = np.mean(self.dice_pos_scores)\n",
        "        dices = [dice, dice_neg, dice_pos]\n",
        "        iou = np.nanmean(self.iou_scores)\n",
        "        return dices, iou"
      ],
      "execution_count": 0,
      "outputs": []
    },
    {
      "cell_type": "markdown",
      "metadata": {
        "id": "aYmUOEmnNg7O",
        "colab_type": "text"
      },
      "source": [
        "## Logger Functions"
      ]
    },
    {
      "cell_type": "code",
      "metadata": {
        "id": "KJZevu2LNg7W",
        "colab_type": "code",
        "colab": {}
      },
      "source": [
        "def epoch_log(phase, epoch, epoch_loss, meter, start):\n",
        "    '''logging the metrics at the end of an epoch'''\n",
        "    dices, iou = meter.get_metrics()\n",
        "    dice, dice_neg, dice_pos = dices\n",
        "    print(\"Loss: %0.4f | IoU: %0.4f | dice: %0.4f | dice_neg: %0.4f | dice_pos: %0.4f\" % (epoch_loss, iou, dice, dice_neg, dice_pos))\n",
        "    return dice, iou"
      ],
      "execution_count": 0,
      "outputs": []
    },
    {
      "cell_type": "code",
      "metadata": {
        "id": "gonsjMtiNg7j",
        "colab_type": "code",
        "colab": {}
      },
      "source": [
        "def predict(X, threshold):\n",
        "    '''X is sigmoid output of the model'''\n",
        "    X_p = np.copy(X)\n",
        "    preds = (X_p > threshold).astype('uint8')\n",
        "    return preds"
      ],
      "execution_count": 0,
      "outputs": []
    },
    {
      "cell_type": "markdown",
      "metadata": {
        "id": "6uEjDsRsNg7u",
        "colab_type": "text"
      },
      "source": [
        "## Load the data"
      ]
    },
    {
      "cell_type": "code",
      "metadata": {
        "id": "8adpXKmtNg7y",
        "colab_type": "code",
        "colab": {}
      },
      "source": [
        "phases = [\"train\", \"val\"]\n",
        "dataloaders = {phase: provider(data_folder='data', df_path='data/train.csv', phase=phase,\n",
        "                               mean=(0.485, 0.456, 0.406), std=(0.229, 0.224, 0.225), \n",
        "                               batch_size=batch_size, num_workers=num_workers) for phase in phases}\n",
        "losses = {phase: [] for phase in phases}\n",
        "iou_scores = {phase: [] for phase in phases}\n",
        "dice_scores = {phase: [] for phase in phases}"
      ],
      "execution_count": 0,
      "outputs": []
    },
    {
      "cell_type": "markdown",
      "metadata": {
        "id": "LZdvR7ZgNg8B",
        "colab_type": "text"
      },
      "source": [
        "## Model"
      ]
    },
    {
      "cell_type": "code",
      "metadata": {
        "id": "TffHcDhzNg8H",
        "colab_type": "code",
        "outputId": "cb95afbc-35c2-4610-9d03-17c53bd7c130",
        "colab": {}
      },
      "source": [
        "net_encoder = ModelBuilder.build_encoder(arch=\"resnet18dilated\")#, fc_dim=cfg.MODEL.fc_dim,  weights=cfg.MODEL.weights_encoder)\n",
        "net_decoder = ModelBuilder.build_decoder(arch=\"ppm_deepsup\", num_class=4)#fc_dim=cfg.MODEL.fc_dim,num_class=cfg.DATASET.num_class,weights=cfg.MODEL.weights_decoder)"
      ],
      "execution_count": 0,
      "outputs": [
        {
          "output_type": "stream",
          "text": [
            "Downloading: \"http://sceneparsing.csail.mit.edu/model/pretrained_resnet/resnet18-imagenet.pth\" to ./pretrained/resnet18-imagenet.pth\n"
          ],
          "name": "stderr"
        },
        {
          "output_type": "error",
          "ename": "RuntimeError",
          "evalue": "Attempting to deserialize object on a CUDA device but torch.cuda.is_available() is False. If you are running on a CPU-only machine, please use torch.load with map_location=torch.device('cpu') to map your storages to the CPU.",
          "traceback": [
            "\u001b[0;31m---------------------------------------------------------------------------\u001b[0m",
            "\u001b[0;31mRuntimeError\u001b[0m                              Traceback (most recent call last)",
            "\u001b[0;32m<ipython-input-22-9188653af6fa>\u001b[0m in \u001b[0;36m<module>\u001b[0;34m\u001b[0m\n\u001b[0;32m----> 1\u001b[0;31m \u001b[0mnet_encoder\u001b[0m \u001b[0;34m=\u001b[0m \u001b[0mModelBuilder\u001b[0m\u001b[0;34m.\u001b[0m\u001b[0mbuild_encoder\u001b[0m\u001b[0;34m(\u001b[0m\u001b[0march\u001b[0m\u001b[0;34m=\u001b[0m\u001b[0;34m\"resnet18dilated\"\u001b[0m\u001b[0;34m)\u001b[0m\u001b[0;31m#, fc_dim=cfg.MODEL.fc_dim,  weights=cfg.MODEL.weights_encoder)\u001b[0m\u001b[0;34m\u001b[0m\u001b[0;34m\u001b[0m\u001b[0m\n\u001b[0m\u001b[1;32m      2\u001b[0m \u001b[0mnet_decoder\u001b[0m \u001b[0;34m=\u001b[0m \u001b[0mModelBuilder\u001b[0m\u001b[0;34m.\u001b[0m\u001b[0mbuild_decoder\u001b[0m\u001b[0;34m(\u001b[0m\u001b[0march\u001b[0m\u001b[0;34m=\u001b[0m\u001b[0;34m\"ppm_deepsup\"\u001b[0m\u001b[0;34m,\u001b[0m \u001b[0mnum_class\u001b[0m\u001b[0;34m=\u001b[0m\u001b[0;36m4\u001b[0m\u001b[0;34m)\u001b[0m\u001b[0;31m#fc_dim=cfg.MODEL.fc_dim,num_class=cfg.DATASET.num_class,weights=cfg.MODEL.weights_decoder)\u001b[0m\u001b[0;34m\u001b[0m\u001b[0;34m\u001b[0m\u001b[0m\n",
            "\u001b[0;32m~/AI/Kaggle/Severstel-Steel-Defect-Detection/models/models.py\u001b[0m in \u001b[0;36mbuild_encoder\u001b[0;34m(arch, fc_dim, weights)\u001b[0m\n\u001b[1;32m     73\u001b[0m             \u001b[0mnet_encoder\u001b[0m \u001b[0;34m=\u001b[0m \u001b[0mResnet\u001b[0m\u001b[0;34m(\u001b[0m\u001b[0morig_resnet\u001b[0m\u001b[0;34m)\u001b[0m\u001b[0;34m\u001b[0m\u001b[0;34m\u001b[0m\u001b[0m\n\u001b[1;32m     74\u001b[0m         \u001b[0;32melif\u001b[0m \u001b[0march\u001b[0m \u001b[0;34m==\u001b[0m \u001b[0;34m'resnet18dilated'\u001b[0m\u001b[0;34m:\u001b[0m\u001b[0;34m\u001b[0m\u001b[0;34m\u001b[0m\u001b[0m\n\u001b[0;32m---> 75\u001b[0;31m             \u001b[0morig_resnet\u001b[0m \u001b[0;34m=\u001b[0m \u001b[0mresnet\u001b[0m\u001b[0;34m.\u001b[0m\u001b[0m__dict__\u001b[0m\u001b[0;34m[\u001b[0m\u001b[0;34m'resnet18'\u001b[0m\u001b[0;34m]\u001b[0m\u001b[0;34m(\u001b[0m\u001b[0mpretrained\u001b[0m\u001b[0;34m=\u001b[0m\u001b[0mpretrained\u001b[0m\u001b[0;34m)\u001b[0m\u001b[0;34m\u001b[0m\u001b[0;34m\u001b[0m\u001b[0m\n\u001b[0m\u001b[1;32m     76\u001b[0m             \u001b[0mnet_encoder\u001b[0m \u001b[0;34m=\u001b[0m \u001b[0mResnetDilated\u001b[0m\u001b[0;34m(\u001b[0m\u001b[0morig_resnet\u001b[0m\u001b[0;34m,\u001b[0m \u001b[0mdilate_scale\u001b[0m\u001b[0;34m=\u001b[0m\u001b[0;36m8\u001b[0m\u001b[0;34m)\u001b[0m\u001b[0;34m\u001b[0m\u001b[0;34m\u001b[0m\u001b[0m\n\u001b[1;32m     77\u001b[0m         \u001b[0;32melif\u001b[0m \u001b[0march\u001b[0m \u001b[0;34m==\u001b[0m \u001b[0;34m'resnet34'\u001b[0m\u001b[0;34m:\u001b[0m\u001b[0;34m\u001b[0m\u001b[0;34m\u001b[0m\u001b[0m\n",
            "\u001b[0;32m~/AI/Kaggle/Severstel-Steel-Defect-Detection/models/resnet.py\u001b[0m in \u001b[0;36mresnet18\u001b[0;34m(pretrained, **kwargs)\u001b[0m\n\u001b[1;32m    166\u001b[0m     \u001b[0mmodel\u001b[0m \u001b[0;34m=\u001b[0m \u001b[0mResNet\u001b[0m\u001b[0;34m(\u001b[0m\u001b[0mBasicBlock\u001b[0m\u001b[0;34m,\u001b[0m \u001b[0;34m[\u001b[0m\u001b[0;36m2\u001b[0m\u001b[0;34m,\u001b[0m \u001b[0;36m2\u001b[0m\u001b[0;34m,\u001b[0m \u001b[0;36m2\u001b[0m\u001b[0;34m,\u001b[0m \u001b[0;36m2\u001b[0m\u001b[0;34m]\u001b[0m\u001b[0;34m,\u001b[0m \u001b[0;34m**\u001b[0m\u001b[0mkwargs\u001b[0m\u001b[0;34m)\u001b[0m\u001b[0;34m\u001b[0m\u001b[0;34m\u001b[0m\u001b[0m\n\u001b[1;32m    167\u001b[0m     \u001b[0;32mif\u001b[0m \u001b[0mpretrained\u001b[0m\u001b[0;34m:\u001b[0m\u001b[0;34m\u001b[0m\u001b[0;34m\u001b[0m\u001b[0m\n\u001b[0;32m--> 168\u001b[0;31m         \u001b[0mmodel\u001b[0m\u001b[0;34m.\u001b[0m\u001b[0mload_state_dict\u001b[0m\u001b[0;34m(\u001b[0m\u001b[0mload_url\u001b[0m\u001b[0;34m(\u001b[0m\u001b[0mmodel_urls\u001b[0m\u001b[0;34m[\u001b[0m\u001b[0;34m'resnet18'\u001b[0m\u001b[0;34m]\u001b[0m\u001b[0;34m)\u001b[0m\u001b[0;34m)\u001b[0m\u001b[0;34m\u001b[0m\u001b[0;34m\u001b[0m\u001b[0m\n\u001b[0m\u001b[1;32m    169\u001b[0m     \u001b[0;32mreturn\u001b[0m \u001b[0mmodel\u001b[0m\u001b[0;34m\u001b[0m\u001b[0;34m\u001b[0m\u001b[0m\n\u001b[1;32m    170\u001b[0m \u001b[0;34m\u001b[0m\u001b[0m\n",
            "\u001b[0;32m~/AI/Kaggle/Severstel-Steel-Defect-Detection/models/utils.py\u001b[0m in \u001b[0;36mload_url\u001b[0;34m(url, model_dir, map_location)\u001b[0m\n\u001b[1;32m     16\u001b[0m         \u001b[0msys\u001b[0m\u001b[0;34m.\u001b[0m\u001b[0mstderr\u001b[0m\u001b[0;34m.\u001b[0m\u001b[0mwrite\u001b[0m\u001b[0;34m(\u001b[0m\u001b[0;34m'Downloading: \"{}\" to {}\\n'\u001b[0m\u001b[0;34m.\u001b[0m\u001b[0mformat\u001b[0m\u001b[0;34m(\u001b[0m\u001b[0murl\u001b[0m\u001b[0;34m,\u001b[0m \u001b[0mcached_file\u001b[0m\u001b[0;34m)\u001b[0m\u001b[0;34m)\u001b[0m\u001b[0;34m\u001b[0m\u001b[0;34m\u001b[0m\u001b[0m\n\u001b[1;32m     17\u001b[0m         \u001b[0murlretrieve\u001b[0m\u001b[0;34m(\u001b[0m\u001b[0murl\u001b[0m\u001b[0;34m,\u001b[0m \u001b[0mcached_file\u001b[0m\u001b[0;34m)\u001b[0m\u001b[0;34m\u001b[0m\u001b[0;34m\u001b[0m\u001b[0m\n\u001b[0;32m---> 18\u001b[0;31m     \u001b[0;32mreturn\u001b[0m \u001b[0mtorch\u001b[0m\u001b[0;34m.\u001b[0m\u001b[0mload\u001b[0m\u001b[0;34m(\u001b[0m\u001b[0mcached_file\u001b[0m\u001b[0;34m,\u001b[0m \u001b[0mmap_location\u001b[0m\u001b[0;34m=\u001b[0m\u001b[0mmap_location\u001b[0m\u001b[0;34m)\u001b[0m\u001b[0;34m\u001b[0m\u001b[0;34m\u001b[0m\u001b[0m\n\u001b[0m",
            "\u001b[0;32m~/.local/lib/python3.6/site-packages/torch/serialization.py\u001b[0m in \u001b[0;36mload\u001b[0;34m(f, map_location, pickle_module, **pickle_load_args)\u001b[0m\n\u001b[1;32m    384\u001b[0m         \u001b[0mf\u001b[0m \u001b[0;34m=\u001b[0m \u001b[0mf\u001b[0m\u001b[0;34m.\u001b[0m\u001b[0mopen\u001b[0m\u001b[0;34m(\u001b[0m\u001b[0;34m'rb'\u001b[0m\u001b[0;34m)\u001b[0m\u001b[0;34m\u001b[0m\u001b[0;34m\u001b[0m\u001b[0m\n\u001b[1;32m    385\u001b[0m     \u001b[0;32mtry\u001b[0m\u001b[0;34m:\u001b[0m\u001b[0;34m\u001b[0m\u001b[0;34m\u001b[0m\u001b[0m\n\u001b[0;32m--> 386\u001b[0;31m         \u001b[0;32mreturn\u001b[0m \u001b[0m_load\u001b[0m\u001b[0;34m(\u001b[0m\u001b[0mf\u001b[0m\u001b[0;34m,\u001b[0m \u001b[0mmap_location\u001b[0m\u001b[0;34m,\u001b[0m \u001b[0mpickle_module\u001b[0m\u001b[0;34m,\u001b[0m \u001b[0;34m**\u001b[0m\u001b[0mpickle_load_args\u001b[0m\u001b[0;34m)\u001b[0m\u001b[0;34m\u001b[0m\u001b[0;34m\u001b[0m\u001b[0m\n\u001b[0m\u001b[1;32m    387\u001b[0m     \u001b[0;32mfinally\u001b[0m\u001b[0;34m:\u001b[0m\u001b[0;34m\u001b[0m\u001b[0;34m\u001b[0m\u001b[0m\n\u001b[1;32m    388\u001b[0m         \u001b[0;32mif\u001b[0m \u001b[0mnew_fd\u001b[0m\u001b[0;34m:\u001b[0m\u001b[0;34m\u001b[0m\u001b[0;34m\u001b[0m\u001b[0m\n",
            "\u001b[0;32m~/.local/lib/python3.6/site-packages/torch/serialization.py\u001b[0m in \u001b[0;36m_load\u001b[0;34m(f, map_location, pickle_module, **pickle_load_args)\u001b[0m\n\u001b[1;32m    571\u001b[0m     \u001b[0munpickler\u001b[0m \u001b[0;34m=\u001b[0m \u001b[0mpickle_module\u001b[0m\u001b[0;34m.\u001b[0m\u001b[0mUnpickler\u001b[0m\u001b[0;34m(\u001b[0m\u001b[0mf\u001b[0m\u001b[0;34m,\u001b[0m \u001b[0;34m**\u001b[0m\u001b[0mpickle_load_args\u001b[0m\u001b[0;34m)\u001b[0m\u001b[0;34m\u001b[0m\u001b[0;34m\u001b[0m\u001b[0m\n\u001b[1;32m    572\u001b[0m     \u001b[0munpickler\u001b[0m\u001b[0;34m.\u001b[0m\u001b[0mpersistent_load\u001b[0m \u001b[0;34m=\u001b[0m \u001b[0mpersistent_load\u001b[0m\u001b[0;34m\u001b[0m\u001b[0;34m\u001b[0m\u001b[0m\n\u001b[0;32m--> 573\u001b[0;31m     \u001b[0mresult\u001b[0m \u001b[0;34m=\u001b[0m \u001b[0munpickler\u001b[0m\u001b[0;34m.\u001b[0m\u001b[0mload\u001b[0m\u001b[0;34m(\u001b[0m\u001b[0;34m)\u001b[0m\u001b[0;34m\u001b[0m\u001b[0;34m\u001b[0m\u001b[0m\n\u001b[0m\u001b[1;32m    574\u001b[0m \u001b[0;34m\u001b[0m\u001b[0m\n\u001b[1;32m    575\u001b[0m     \u001b[0mdeserialized_storage_keys\u001b[0m \u001b[0;34m=\u001b[0m \u001b[0mpickle_module\u001b[0m\u001b[0;34m.\u001b[0m\u001b[0mload\u001b[0m\u001b[0;34m(\u001b[0m\u001b[0mf\u001b[0m\u001b[0;34m,\u001b[0m \u001b[0;34m**\u001b[0m\u001b[0mpickle_load_args\u001b[0m\u001b[0;34m)\u001b[0m\u001b[0;34m\u001b[0m\u001b[0;34m\u001b[0m\u001b[0m\n",
            "\u001b[0;32m~/.local/lib/python3.6/site-packages/torch/serialization.py\u001b[0m in \u001b[0;36mpersistent_load\u001b[0;34m(saved_id)\u001b[0m\n\u001b[1;32m    534\u001b[0m                 \u001b[0mobj\u001b[0m \u001b[0;34m=\u001b[0m \u001b[0mdata_type\u001b[0m\u001b[0;34m(\u001b[0m\u001b[0msize\u001b[0m\u001b[0;34m)\u001b[0m\u001b[0;34m\u001b[0m\u001b[0;34m\u001b[0m\u001b[0m\n\u001b[1;32m    535\u001b[0m                 \u001b[0mobj\u001b[0m\u001b[0;34m.\u001b[0m\u001b[0m_torch_load_uninitialized\u001b[0m \u001b[0;34m=\u001b[0m \u001b[0;32mTrue\u001b[0m\u001b[0;34m\u001b[0m\u001b[0;34m\u001b[0m\u001b[0m\n\u001b[0;32m--> 536\u001b[0;31m                 \u001b[0mdeserialized_objects\u001b[0m\u001b[0;34m[\u001b[0m\u001b[0mroot_key\u001b[0m\u001b[0;34m]\u001b[0m \u001b[0;34m=\u001b[0m \u001b[0mrestore_location\u001b[0m\u001b[0;34m(\u001b[0m\u001b[0mobj\u001b[0m\u001b[0;34m,\u001b[0m \u001b[0mlocation\u001b[0m\u001b[0;34m)\u001b[0m\u001b[0;34m\u001b[0m\u001b[0;34m\u001b[0m\u001b[0m\n\u001b[0m\u001b[1;32m    537\u001b[0m             \u001b[0mstorage\u001b[0m \u001b[0;34m=\u001b[0m \u001b[0mdeserialized_objects\u001b[0m\u001b[0;34m[\u001b[0m\u001b[0mroot_key\u001b[0m\u001b[0;34m]\u001b[0m\u001b[0;34m\u001b[0m\u001b[0;34m\u001b[0m\u001b[0m\n\u001b[1;32m    538\u001b[0m             \u001b[0;32mif\u001b[0m \u001b[0mview_metadata\u001b[0m \u001b[0;32mis\u001b[0m \u001b[0;32mnot\u001b[0m \u001b[0;32mNone\u001b[0m\u001b[0;34m:\u001b[0m\u001b[0;34m\u001b[0m\u001b[0;34m\u001b[0m\u001b[0m\n",
            "\u001b[0;32m~/.local/lib/python3.6/site-packages/torch/serialization.py\u001b[0m in \u001b[0;36mdefault_restore_location\u001b[0;34m(storage, location)\u001b[0m\n\u001b[1;32m    117\u001b[0m \u001b[0;32mdef\u001b[0m \u001b[0mdefault_restore_location\u001b[0m\u001b[0;34m(\u001b[0m\u001b[0mstorage\u001b[0m\u001b[0;34m,\u001b[0m \u001b[0mlocation\u001b[0m\u001b[0;34m)\u001b[0m\u001b[0;34m:\u001b[0m\u001b[0;34m\u001b[0m\u001b[0;34m\u001b[0m\u001b[0m\n\u001b[1;32m    118\u001b[0m     \u001b[0;32mfor\u001b[0m \u001b[0m_\u001b[0m\u001b[0;34m,\u001b[0m \u001b[0m_\u001b[0m\u001b[0;34m,\u001b[0m \u001b[0mfn\u001b[0m \u001b[0;32min\u001b[0m \u001b[0m_package_registry\u001b[0m\u001b[0;34m:\u001b[0m\u001b[0;34m\u001b[0m\u001b[0;34m\u001b[0m\u001b[0m\n\u001b[0;32m--> 119\u001b[0;31m         \u001b[0mresult\u001b[0m \u001b[0;34m=\u001b[0m \u001b[0mfn\u001b[0m\u001b[0;34m(\u001b[0m\u001b[0mstorage\u001b[0m\u001b[0;34m,\u001b[0m \u001b[0mlocation\u001b[0m\u001b[0;34m)\u001b[0m\u001b[0;34m\u001b[0m\u001b[0;34m\u001b[0m\u001b[0m\n\u001b[0m\u001b[1;32m    120\u001b[0m         \u001b[0;32mif\u001b[0m \u001b[0mresult\u001b[0m \u001b[0;32mis\u001b[0m \u001b[0;32mnot\u001b[0m \u001b[0;32mNone\u001b[0m\u001b[0;34m:\u001b[0m\u001b[0;34m\u001b[0m\u001b[0;34m\u001b[0m\u001b[0m\n\u001b[1;32m    121\u001b[0m             \u001b[0;32mreturn\u001b[0m \u001b[0mresult\u001b[0m\u001b[0;34m\u001b[0m\u001b[0;34m\u001b[0m\u001b[0m\n",
            "\u001b[0;32m~/.local/lib/python3.6/site-packages/torch/serialization.py\u001b[0m in \u001b[0;36m_cuda_deserialize\u001b[0;34m(obj, location)\u001b[0m\n\u001b[1;32m     93\u001b[0m \u001b[0;32mdef\u001b[0m \u001b[0m_cuda_deserialize\u001b[0m\u001b[0;34m(\u001b[0m\u001b[0mobj\u001b[0m\u001b[0;34m,\u001b[0m \u001b[0mlocation\u001b[0m\u001b[0;34m)\u001b[0m\u001b[0;34m:\u001b[0m\u001b[0;34m\u001b[0m\u001b[0;34m\u001b[0m\u001b[0m\n\u001b[1;32m     94\u001b[0m     \u001b[0;32mif\u001b[0m \u001b[0mlocation\u001b[0m\u001b[0;34m.\u001b[0m\u001b[0mstartswith\u001b[0m\u001b[0;34m(\u001b[0m\u001b[0;34m'cuda'\u001b[0m\u001b[0;34m)\u001b[0m\u001b[0;34m:\u001b[0m\u001b[0;34m\u001b[0m\u001b[0;34m\u001b[0m\u001b[0m\n\u001b[0;32m---> 95\u001b[0;31m         \u001b[0mdevice\u001b[0m \u001b[0;34m=\u001b[0m \u001b[0mvalidate_cuda_device\u001b[0m\u001b[0;34m(\u001b[0m\u001b[0mlocation\u001b[0m\u001b[0;34m)\u001b[0m\u001b[0;34m\u001b[0m\u001b[0;34m\u001b[0m\u001b[0m\n\u001b[0m\u001b[1;32m     96\u001b[0m         \u001b[0;32mif\u001b[0m \u001b[0mgetattr\u001b[0m\u001b[0;34m(\u001b[0m\u001b[0mobj\u001b[0m\u001b[0;34m,\u001b[0m \u001b[0;34m\"_torch_load_uninitialized\"\u001b[0m\u001b[0;34m,\u001b[0m \u001b[0;32mFalse\u001b[0m\u001b[0;34m)\u001b[0m\u001b[0;34m:\u001b[0m\u001b[0;34m\u001b[0m\u001b[0;34m\u001b[0m\u001b[0m\n\u001b[1;32m     97\u001b[0m             \u001b[0mstorage_type\u001b[0m \u001b[0;34m=\u001b[0m \u001b[0mgetattr\u001b[0m\u001b[0;34m(\u001b[0m\u001b[0mtorch\u001b[0m\u001b[0;34m.\u001b[0m\u001b[0mcuda\u001b[0m\u001b[0;34m,\u001b[0m \u001b[0mtype\u001b[0m\u001b[0;34m(\u001b[0m\u001b[0mobj\u001b[0m\u001b[0;34m)\u001b[0m\u001b[0;34m.\u001b[0m\u001b[0m__name__\u001b[0m\u001b[0;34m)\u001b[0m\u001b[0;34m\u001b[0m\u001b[0;34m\u001b[0m\u001b[0m\n",
            "\u001b[0;32m~/.local/lib/python3.6/site-packages/torch/serialization.py\u001b[0m in \u001b[0;36mvalidate_cuda_device\u001b[0;34m(location)\u001b[0m\n\u001b[1;32m     77\u001b[0m \u001b[0;34m\u001b[0m\u001b[0m\n\u001b[1;32m     78\u001b[0m     \u001b[0;32mif\u001b[0m \u001b[0;32mnot\u001b[0m \u001b[0mtorch\u001b[0m\u001b[0;34m.\u001b[0m\u001b[0mcuda\u001b[0m\u001b[0;34m.\u001b[0m\u001b[0mis_available\u001b[0m\u001b[0;34m(\u001b[0m\u001b[0;34m)\u001b[0m\u001b[0;34m:\u001b[0m\u001b[0;34m\u001b[0m\u001b[0;34m\u001b[0m\u001b[0m\n\u001b[0;32m---> 79\u001b[0;31m         raise RuntimeError('Attempting to deserialize object on a CUDA '\n\u001b[0m\u001b[1;32m     80\u001b[0m                            \u001b[0;34m'device but torch.cuda.is_available() is False. '\u001b[0m\u001b[0;34m\u001b[0m\u001b[0;34m\u001b[0m\u001b[0m\n\u001b[1;32m     81\u001b[0m                            \u001b[0;34m'If you are running on a CPU-only machine, '\u001b[0m\u001b[0;34m\u001b[0m\u001b[0;34m\u001b[0m\u001b[0m\n",
            "\u001b[0;31mRuntimeError\u001b[0m: Attempting to deserialize object on a CUDA device but torch.cuda.is_available() is False. If you are running on a CPU-only machine, please use torch.load with map_location=torch.device('cpu') to map your storages to the CPU."
          ]
        }
      ]
    },
    {
      "cell_type": "code",
      "metadata": {
        "id": "myxV-1CqNg8X",
        "colab_type": "code",
        "colab": {}
      },
      "source": [
        "net_encoder = net_encoder.to(device)\n",
        "net_decoder = net_decoder.to(device)\n",
        "criterion = torch.nn.BCEWithLogitsLoss()\n",
        "encoder_optimizer = optim.Adam(net_encoder.parameters(), lr=learning_rate, weight_decay=1e-5)\n",
        "decoder_optimizer = optim.Adam(net_decoder.parameters(), lr=learning_rate, weight_decay=1e-5)\n",
        "encoder_scheduler = ReduceLROnPlateau(encoder_optimizer, mode=\"min\", patience=3, verbose=True)\n",
        "decoder_scheduler = ReduceLROnPlateau(decoder_optimizer, mode=\"min\", patience=3, verbose=True)"
      ],
      "execution_count": 0,
      "outputs": []
    },
    {
      "cell_type": "markdown",
      "metadata": {
        "id": "QpzGJjANNg8h",
        "colab_type": "text"
      },
      "source": [
        "## Training and Validation"
      ]
    },
    {
      "cell_type": "code",
      "metadata": {
        "id": "skvxCUzGNg8l",
        "colab_type": "code",
        "colab": {}
      },
      "source": [
        "epoch = float('inf')\n",
        "for epoch in range(num_epochs):\n",
        "    for phase in phases:\n",
        "        running_loss = 0.0\n",
        "        meter = Meter(phase, epoch)\n",
        "        time = time.strftime(\"%H:%M:%S\")\n",
        "        \n",
        "        print(f\"Starting epoch: {epoch} | phase: {phase} | ⏰: {start}\")\n",
        "        \n",
        "        # Each epoch has a training and validation phase\n",
        "        if phase==\"train\":\n",
        "            net_encoder.train()\n",
        "            net_decoder.train()\n",
        "        else:\n",
        "            net_encoder.eval()\n",
        "            net_decoder.eval()\n",
        "        \n",
        "        #\n",
        "        encoder_optimizer.zero_grad()\n",
        "        decoder_optimizer.zero_grad()\n",
        "        for itr, batch in enumerate(dataloader):\n",
        "            images, masks = batch\n",
        "            images = images.to(device)\n",
        "            masks = masks.to(device)\n",
        "            \n",
        "            # forward\n",
        "            # track history if only in train\n",
        "            with torch.set_grad_enabled(phase=='train'):\n",
        "                outputs = net_decoder(net_encoder(images))\n",
        "                loss = criterion(masks, targets)\n",
        "                loss /= accumulation_steps\n",
        "\n",
        "                if phase=='train':\n",
        "                    loss.backward()\n",
        "                    if (itr+1)%accumulation_steps == 0:\n",
        "                        encoder_optimizer.step()\n",
        "                        decoder_optimizer.step()\n",
        "                        encoder_optimizer.zero_grad()\n",
        "                        decoder_optimizer.zero_grad()\n",
        "            \n",
        "            running_loss += loss.item()\n",
        "            outputs = outputs.detach().cpu()\n",
        "            meter.update(masks.cpu(), outputs)\n",
        "    \n",
        "        epoch_loss = (running_loss * accumulation_steps) / total_batches\n",
        "        dice, iou = epoch_log(phase, epoch, epoch_loss, meter, start)\n",
        "        losses[phase].append(epoch_loss)\n",
        "        dice_scores[phase].append(dice)\n",
        "        iou_scores[phase].append(iou)\n",
        "        torch.cuda.empty_cache()\n",
        "        \n",
        "        state = {\n",
        "            \"epoch\": epoch,\n",
        "            \"best_loss\": best_loss,\n",
        "            \"encoder_state_dict\": net_encoder.state_dict(),\n",
        "            \"decoder_state_dict\": net_decoder.state_dict(),\n",
        "            \"encoder_optimizer\": encoder_optimizer.state_dict(),\n",
        "            \"decoder_optimizer\": decoder_optimizer.state_dict()\n",
        "        }\n",
        "        \n",
        "        if phase=='valid':\n",
        "            encoder_scheduler.step(epoch_loss)\n",
        "            decoder_scheduler.step(epoch_loss)\n",
        "            if epoch_loss < best_loss:\n",
        "                print(\"******** New optimal found, saving state ********\")\n",
        "                state[\"best_loss\"] = best_loss = val_epoch\n",
        "                torch.save(state, f\"./model_{epoch}_{time}.pth\")\n",
        "    print() "
      ],
      "execution_count": 0,
      "outputs": []
    },
    {
      "cell_type": "code",
      "metadata": {
        "id": "6cjSlHXqNg8w",
        "colab_type": "code",
        "colab": {}
      },
      "source": [
        "# class Trainer(object):\n",
        "#     '''This class takes care of training and validation of our model'''\n",
        "#     def __init__(self, model):\n",
        "#         self.best_loss = float(\"inf\")\n",
        "#         self.phases = [\"train\", \"val\"]\n",
        "#         self.net = model \n",
        "#         self.net = self.net.to(self.device)\n",
        "#         cudnn.benchmark = True\n",
        "#         self.dataloaders = {\n",
        "#             phase: provider(\n",
        "#                 data_folder=data_folder,\n",
        "#                 df_path=train_df_path,\n",
        "#                 phase=phase,\n",
        "#                 mean=(0.485, 0.456, 0.406),\n",
        "#                 std=(0.229, 0.224, 0.225),\n",
        "#                 batch_size=self.batch_size[phase],\n",
        "#                 num_workers=self.num_workers,\n",
        "#             )\n",
        "#             for phase in self.phases\n",
        "#         }\n",
        "#         self.losses = {phase: [] for phase in self.phases}\n",
        "#         self.iou_scores = {phase: [] for phase in self.phases}\n",
        "#         self.dice_scores = {phase: [] for phase in self.phases}\n",
        "        \n",
        "#     def forward(self, images, targets):\n",
        "#         images = images.to(self.device)\n",
        "#         masks = targets.to(self.device)\n",
        "#         outputs = self.net(images)\n",
        "#         loss = self.criterion(outputs, masks)\n",
        "#         return loss, outputs\n",
        "\n",
        "#     def iterate(self, epoch, phase):\n",
        "#         meter = Meter(phase, epoch)\n",
        "#         start = time.strftime(\"%H:%M:%S\")\n",
        "#         print(f\"Starting epoch: {epoch} | phase: {phase} | ⏰: {start}\")\n",
        "#         batch_size = self.batch_size[phase]\n",
        "#         self.net.train(phase == \"train\")\n",
        "#         dataloader = self.dataloaders[phase]\n",
        "#         running_loss = 0.0\n",
        "#         total_batches = len(dataloader)\n",
        "# #         tk0 = tqdm(dataloader, total=total_batches)\n",
        "#         self.optimizer.zero_grad()\n",
        "#         for itr, batch in enumerate(dataloader): # replace `dataloader` with `tk0` for tqdm\n",
        "#             images, targets = batch\n",
        "#             loss, outputs = self.forward(images, targets)\n",
        "#             loss = loss / self.accumulation_steps\n",
        "#             if phase == \"train\":\n",
        "#                 loss.backward()\n",
        "#                 if (itr + 1 ) % self.accumulation_steps == 0:\n",
        "#                     self.optimizer.step()\n",
        "#                     self.optimizer.zero_grad()\n",
        "#             running_loss += loss.item()\n",
        "#             outputs = outputs.detach().cpu()\n",
        "#             meter.update(targets, outputs)\n",
        "# #             tk0.set_postfix(loss=(running_loss / ((itr + 1))))\n",
        "#         epoch_loss = (running_loss * self.accumulation_steps) / total_batches\n",
        "#         dice, iou = epoch_log(phase, epoch, epoch_loss, meter, start)\n",
        "#         self.losses[phase].append(epoch_loss)\n",
        "#         self.dice_scores[phase].append(dice)\n",
        "#         self.iou_scores[phase].append(iou)\n",
        "#         torch.cuda.empty_cache()\n",
        "#         return epoch_loss\n",
        "\n",
        "#     def start(self):\n",
        "#         for epoch in range(self.num_epochs):\n",
        "#             self.iterate(epoch, \"train\")\n",
        "#             state = {\n",
        "#                 \"epoch\": epoch,\n",
        "#                 \"best_loss\": self.best_loss,\n",
        "#                 \"state_dict\": self.net.state_dict(),\n",
        "#                 \"optimizer\": self.optimizer.state_dict(),\n",
        "#             }\n",
        "#             with torch.no_grad():\n",
        "#                 val_loss = self.iterate(epoch, \"val\")\n",
        "#                 self.scheduler.step(val_loss)\n",
        "#             if val_loss < self.best_loss:\n",
        "#                 print(\"******** New optimal found, saving state ********\")\n",
        "#                 state[\"best_loss\"] = self.best_loss = val_loss\n",
        "#                 torch.save(state, \"./model.pth\")\n",
        "#             print()"
      ],
      "execution_count": 0,
      "outputs": []
    },
    {
      "cell_type": "code",
      "metadata": {
        "id": "kHyx3fb8Ng87",
        "colab_type": "code",
        "colab": {}
      },
      "source": [
        "# model_trainer = Trainer(model)\n",
        "# model_trainer.start()"
      ],
      "execution_count": 0,
      "outputs": []
    },
    {
      "cell_type": "markdown",
      "metadata": {
        "id": "deinENC1Ng9F",
        "colab_type": "text"
      },
      "source": [
        "## Plotting"
      ]
    },
    {
      "cell_type": "code",
      "metadata": {
        "id": "dT3_wzuzNg9H",
        "colab_type": "code",
        "colab": {}
      },
      "source": [
        "# PLOT TRAINING\n",
        "# losses = model_trainer.losses\n",
        "# dice_scores = model_trainer.dice_scores # overall dice\n",
        "# iou_scores = model_trainer.iou_scores\n",
        "\n",
        "def plot(scores, name):\n",
        "    plt.figure(figsize=(15,5))\n",
        "    plt.plot(range(len(scores[\"train\"])), scores[\"train\"], label=f'train {name}')\n",
        "    plt.plot(range(len(scores[\"train\"])), scores[\"val\"], label=f'val {name}')\n",
        "    plt.title(f'{name} plot'); plt.xlabel('Epoch'); plt.ylabel(f'{name}');\n",
        "    plt.legend(); \n",
        "    plt.show()\n",
        "\n",
        "plot(losses, \"BCE loss\")\n",
        "plot(dice_scores, \"Dice score\")\n",
        "plot(iou_scores, \"IoU score\")"
      ],
      "execution_count": 0,
      "outputs": []
    },
    {
      "cell_type": "code",
      "metadata": {
        "id": "PRjGVOvdNg9U",
        "colab_type": "code",
        "colab": {}
      },
      "source": [
        ""
      ],
      "execution_count": 0,
      "outputs": []
    }
  ]
}